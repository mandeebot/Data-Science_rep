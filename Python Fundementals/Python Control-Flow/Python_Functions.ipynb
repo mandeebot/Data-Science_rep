{
 "cells": [
  {
   "cell_type": "markdown",
   "id": "4e71ffd4-2d9c-49d9-a301-5f0c16dc504b",
   "metadata": {
    "id": "a1574603"
   },
   "source": [
    "# Python Functions and Methods"
   ]
  },
  {
   "cell_type": "markdown",
   "id": "eef0f4e3",
   "metadata": {
    "id": "eef0f4e3"
   },
   "source": [
    "## Functions\n",
    "**A function is a useful device that groups together a set of statements so they can be run more than once**.\n",
    "\n",
    "they allow you to encapsulate a block of code into a reusable unit. When you call a function, the program jumps to the function definition, executes the code inside the function, and then returns to the point where the function was called. Functions provide a way to modularize code and control the flow of execution within a program."
   ]
  },
  {
   "cell_type": "markdown",
   "id": "9e935a36-cbcd-4a0a-a624-c4dbb3ed2dad",
   "metadata": {},
   "source": [
    "If you remember back to the lessons on strings and lists, remember that we used a function len() to get the length of a string., we also used a function type(), to check the data type of objects.\n",
    "\n",
    "Since checking the length of a sequence, or the data type of any python object is a common task you would want\n",
    "to write a function that can do this repeatedly at command."
   ]
  },
  {
   "cell_type": "code",
   "execution_count": null,
   "id": "aff5ff13-650d-4f02-b4f6-4a67d70f46b2",
   "metadata": {
    "id": "3f88fb3b"
   },
   "outputs": [],
   "source": [
    "\n",
    " def name_of_function(arg1,arg2):\n",
    "    '''\n",
    "    This is where the function's Document String (docstring) goes\n",
    "    '''\n",
    "    `Do stuff here`\n",
    "    return desired result"
   ]
  },
  {
   "cell_type": "markdown",
   "id": "56af6eb9-952a-4854-8f30-7d994dbeb01e",
   "metadata": {},
   "source": [
    "> The \"return\" keyword specifies what the function produces as its output. When a function reaches a return statement, it immediately exits and returns the specified value."
   ]
  },
  {
   "cell_type": "markdown",
   "id": "373d984e",
   "metadata": {
    "id": "373d984e"
   },
   "source": [
    "**Components Of Fucntions**\n",
    "\n",
    "\n",
    "* Keyword ***def*** that marks the start of the function. *def* is short for \"define\". It's a keyword that you need to define a function.\n",
    "* A ***function name*** to uniquely identify the function.\n",
    "* ***Parameters (arguments)*** through which we pass values to a function. These are optional.\n",
    "* A ***colon (:)*** to mark the end of the function.\n",
    "* One or more valid python ***statements*** that make up the function body.\n",
    "* An optional ***return statement*** to return a value from the function."
   ]
  },
  {
   "cell_type": "markdown",
   "id": "412393e3",
   "metadata": {
    "id": "412393e3"
   },
   "source": [
    "### CLASS TASK \n",
    "`1. Write a function that takes two numbers as input and returns their product.`\n"
   ]
  },
  {
   "cell_type": "code",
   "execution_count": null,
   "id": "60294255",
   "metadata": {},
   "outputs": [],
   "source": []
  },
  {
   "cell_type": "code",
   "execution_count": null,
   "id": "734317fe",
   "metadata": {},
   "outputs": [],
   "source": []
  },
  {
   "cell_type": "markdown",
   "id": "f21b6b2f",
   "metadata": {
    "id": "f21b6b2f"
   },
   "source": [
    "`2. Define a function that takes in the name of the participant and then returns a salutation.`\n"
   ]
  },
  {
   "cell_type": "code",
   "execution_count": null,
   "id": "3706b9a1",
   "metadata": {},
   "outputs": [],
   "source": []
  },
  {
   "cell_type": "code",
   "execution_count": null,
   "id": "dd012c98",
   "metadata": {},
   "outputs": [],
   "source": []
  },
  {
   "cell_type": "markdown",
   "id": "8e87b4dc",
   "metadata": {
    "id": "8e87b4dc"
   },
   "source": [
    "`3. Define a function that takes in the name of the participant, if the participant is male, add a Mr, otherwise add a Ma'am.`\n"
   ]
  },
  {
   "cell_type": "code",
   "execution_count": null,
   "id": "849f4312",
   "metadata": {},
   "outputs": [],
   "source": []
  },
  {
   "cell_type": "code",
   "execution_count": null,
   "id": "0b5cd77e",
   "metadata": {},
   "outputs": [],
   "source": []
  },
  {
   "cell_type": "markdown",
   "id": "1c73cc97",
   "metadata": {
    "id": "1c73cc97"
   },
   "source": [
    "`4. Define a function that adds 5 to the parameter. Then, define another function that will multiply the newly obtained number by 3\n",
    "Verify your code was correct by calling the second function with an argument of 5 Was your output equal to 30?`\n"
   ]
  },
  {
   "cell_type": "code",
   "execution_count": null,
   "id": "566d0222",
   "metadata": {},
   "outputs": [],
   "source": []
  },
  {
   "cell_type": "code",
   "execution_count": null,
   "id": "9898b966-ab66-487c-9dbe-bb203c0a6dcb",
   "metadata": {},
   "outputs": [],
   "source": []
  },
  {
   "cell_type": "markdown",
   "id": "77ba2d32-d417-4a0f-b9b1-954faec2c885",
   "metadata": {},
   "source": [
    "## Python METHODS\n",
    "\n",
    "We've already seen a few example of methods when learning about Object and Data Structure Types in Python. Methods are essentially functions built into objects. Later on in the course we will learn about how to create our own objects and methods using Object Oriented Programming (OOP) and classes.\n",
    "\n",
    "Methods perform specific actions on an object and can also take arguments, just like a function. This lecture will serve as just a brief introduction to methods and get you thinking about overall design methods that we will touch back upon when we reach OOP in the course.\n",
    "\n",
    "Methods are in the form:"
   ]
  },
  {
   "cell_type": "code",
   "execution_count": null,
   "id": "8602e65c-9996-449c-83a8-f28a46c80409",
   "metadata": {},
   "outputs": [],
   "source": [
    "#examples of python methods"
   ]
  },
  {
   "cell_type": "code",
   "execution_count": null,
   "id": "626b50c1-1b25-41c9-81b2-1c5d496175ea",
   "metadata": {},
   "outputs": [],
   "source": [
    "#examples of python methods"
   ]
  },
  {
   "cell_type": "markdown",
   "id": "a04c49cc",
   "metadata": {
    "id": "a04c49cc"
   },
   "source": [
    "## LIST COMPREHENSION"
   ]
  },
  {
   "cell_type": "code",
   "execution_count": 6,
   "id": "4e2c3b27",
   "metadata": {
    "id": "4e2c3b27"
   },
   "outputs": [],
   "source": []
  },
  {
   "cell_type": "code",
   "execution_count": null,
   "id": "5653ed2c",
   "metadata": {
    "id": "5653ed2c"
   },
   "outputs": [],
   "source": []
  },
  {
   "cell_type": "markdown",
   "id": "b4407482",
   "metadata": {
    "id": "b4407482"
   },
   "source": [
    "### LAMBDA"
   ]
  },
  {
   "cell_type": "code",
   "execution_count": null,
   "id": "c0b16df7",
   "metadata": {
    "id": "c0b16df7"
   },
   "outputs": [],
   "source": []
  },
  {
   "cell_type": "code",
   "execution_count": null,
   "id": "218e8fe0-8576-443f-acfe-f201c302ab2c",
   "metadata": {},
   "outputs": [],
   "source": []
  },
  {
   "cell_type": "markdown",
   "id": "1fd4ad43",
   "metadata": {
    "id": "1fd4ad43"
   },
   "source": [
    "## NOTES"
   ]
  },
  {
   "cell_type": "markdown",
   "id": "819cdd0a",
   "metadata": {
    "id": "819cdd0a"
   },
   "source": [
    "### Print:\n",
    "When you use the print statement or function inside a function, you're telling the program to display a value or a message on the screen or in the console. This is helpful for showing intermediate results, debugging information, or just providing some output for the user to see. However, using print doesn't affect the actual value that the function produces. It's like writing notes on a paper while doing a math problem – it doesn't change the final answer, but it helps you understand the process.\n",
    "\n",
    "Example:\n",
    "``` def add(a, b):\n",
    "    result = a + b\n",
    "    print(\"The sum is:\", result)\n",
    "\n",
    "add(3, 5)\n",
    "# Output: The sum is: 8\n",
    "```\n",
    "\n",
    "\n",
    "### Return:\n",
    "On the other hand, the return statement in a function is used to give back a value from the function to the code that called it. This value can be used for further computations, assignments, or any other purpose within the program. When a function encounters a return statement, it immediately exits the function and provides the specified value. This is like getting a final answer from a math problem.\n",
    "\n",
    "Example:\n",
    "\n",
    "```def add(a, b):\n",
    "    result = a + b\n",
    "    return result\n",
    "\n",
    "sum_result = add(3, 5)\n",
    "print(\"The sum is:\", sum_result)\n",
    "# Output: The sum is: 8\n",
    "```"
   ]
  },
  {
   "cell_type": "code",
   "execution_count": null,
   "id": "9eb6b899",
   "metadata": {
    "id": "9eb6b899"
   },
   "outputs": [],
   "source": []
  }
 ],
 "metadata": {
  "colab": {
   "provenance": []
  },
  "kernelspec": {
   "display_name": "Python 3 (ipykernel)",
   "language": "python",
   "name": "python3"
  },
  "language_info": {
   "codemirror_mode": {
    "name": "ipython",
    "version": 3
   },
   "file_extension": ".py",
   "mimetype": "text/x-python",
   "name": "python",
   "nbconvert_exporter": "python",
   "pygments_lexer": "ipython3",
   "version": "3.10.12"
  }
 },
 "nbformat": 4,
 "nbformat_minor": 5
}
